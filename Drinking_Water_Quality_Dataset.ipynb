{
  "cells": [
    {
      "cell_type": "code",
      "execution_count": null,
      "metadata": {
        "id": "BKn-hB_xmfD1"
      },
      "outputs": [],
      "source": [
        "import pandas as pd\n",
        "import numpy as np\n",
        "import matplotlib.pyplot as plt\n",
        "import seaborn as sns\n",
        "import xgboost as xg\n",
        "from sklearn.model_selection import train_test_split\n",
        "from sklearn.metrics import mean_squared_error as MSE\n",
        "from sklearn.preprocessing import LabelEncoder, MinMaxScaler\n",
        "from sklearn.neighbors import KNeighborsClassifier\n",
        "from sklearn.svm import SVC\n",
        "from sklearn.ensemble import RandomForestClassifier, AdaBoostClassifier\n",
        "from sklearn.naive_bayes import GaussianNB\n",
        "from sklearn.metrics import roc_curve, roc_auc_score, mean_squared_error as MSE, log_loss,r2_score\n",
        "import warnings\n",
        "warnings.filterwarnings('ignore')\n",
        "\n"
      ]
    },
    {
      "cell_type": "code",
      "execution_count": null,
      "metadata": {
        "id": "ZnrcwlYvnIGo"
      },
      "outputs": [],
      "source": [
        "DATA_PATH = \"/kaggle/input/water-quality-dataset/waterPollution.csv\"\n"
      ]
    },
    {
      "cell_type": "code",
      "execution_count": null,
      "metadata": {
        "id": "TaKzhSOYnoba"
      },
      "outputs": [],
      "source": [
        "data = pd.read_csv(\"/content/waterPollution.csv\")"
      ]
    },
    {
      "cell_type": "code",
      "execution_count": null,
      "metadata": {
        "colab": {
          "base_uri": "https://localhost:8080/",
          "height": 273
        },
        "id": "lNhrs-yDn-RV",
        "outputId": "9f0e0e6d-68d4-4524-b4ec-bd63aeade655"
      },
      "outputs": [
        {
          "output_type": "execute_result",
          "data": {
            "text/plain": [
              "  parameterWaterBodyCategory observedPropertyDeterminandCode  \\\n",
              "0                         RW                  CAS_14797-65-0   \n",
              "1                         RW                  CAS_14797-65-0   \n",
              "2                         RW                   EEA_3164-07-6   \n",
              "3                         RW                  CAS_14797-55-8   \n",
              "4                         RW                   EEA_3151-01-7   \n",
              "\n",
              "  procedureAnalysedFraction procedureAnalysedMedia    resultUom  \\\n",
              "0                     total                  water    mg{NO2}/L   \n",
              "1                     total                  water    mg{NO2}/L   \n",
              "2                     total                  water  {massRatio}   \n",
              "3                     total                  water    mg{NO3}/L   \n",
              "4                     total                  water       mmol/L   \n",
              "\n",
              "   phenomenonTimeReferenceYear parameterSamplingPeriod  resultMeanValue  \\\n",
              "0                         2009        2009-01--2009-12         0.063310   \n",
              "1                         2009        2009-01--2009-12         0.046733   \n",
              "2                         2009        2009-01--2009-12       132.859000   \n",
              "3                         2009        2009-01--2009-12        11.578376   \n",
              "4                         2009        2009-01--2009-12         0.206800   \n",
              "\n",
              "                waterBodyIdentifier Country  ...  \\\n",
              "0                           FRDR609  France  ...   \n",
              "1                           FRFR238  France  ...   \n",
              "2                           FRFR238  France  ...   \n",
              "3                          FRFR327C  France  ...   \n",
              "4  ES014MSPFES-014-NR-038-000-02-02   Spain  ...   \n",
              "\n",
              "   composition_food_organic_waste_percent  composition_glass_percent  \\\n",
              "0                                    32.0                       10.0   \n",
              "1                                    32.0                       10.0   \n",
              "2                                    32.0                       10.0   \n",
              "3                                    32.0                       10.0   \n",
              "4                                    49.0                        8.0   \n",
              "\n",
              "   composition_metal_percent  composition_other_percent  \\\n",
              "0                        3.0                       26.0   \n",
              "1                        3.0                       26.0   \n",
              "2                        3.0                       26.0   \n",
              "3                        3.0                       26.0   \n",
              "4                        3.0                       14.0   \n",
              "\n",
              "   composition_paper_cardboard_percent  composition_plastic_percent  \\\n",
              "0                                 20.0                          9.0   \n",
              "1                                 20.0                          9.0   \n",
              "2                                 20.0                          9.0   \n",
              "3                                 20.0                          9.0   \n",
              "4                                 15.0                          9.0   \n",
              "\n",
              "   composition_rubber_leather_percent  composition_wood_percent  \\\n",
              "0                                 0.0                       0.0   \n",
              "1                                 0.0                       0.0   \n",
              "2                                 0.0                       0.0   \n",
              "3                                 0.0                       0.0   \n",
              "4                                 0.0                       2.0   \n",
              "\n",
              "   composition_yard_garden_green_waste_percent  \\\n",
              "0                                          0.0   \n",
              "1                                          0.0   \n",
              "2                                          0.0   \n",
              "3                                          0.0   \n",
              "4                                          0.0   \n",
              "\n",
              "   waste_treatment_recycling_percent  \n",
              "0                              22.26  \n",
              "1                              22.26  \n",
              "2                              22.26  \n",
              "3                              22.26  \n",
              "4                              16.84  \n",
              "\n",
              "[5 rows x 29 columns]"
            ],
            "text/html": [
              "\n",
              "  <div id=\"df-41c49829-b003-417e-a6a9-6cf8116e8416\" class=\"colab-df-container\">\n",
              "    <div>\n",
              "<style scoped>\n",
              "    .dataframe tbody tr th:only-of-type {\n",
              "        vertical-align: middle;\n",
              "    }\n",
              "\n",
              "    .dataframe tbody tr th {\n",
              "        vertical-align: top;\n",
              "    }\n",
              "\n",
              "    .dataframe thead th {\n",
              "        text-align: right;\n",
              "    }\n",
              "</style>\n",
              "<table border=\"1\" class=\"dataframe\">\n",
              "  <thead>\n",
              "    <tr style=\"text-align: right;\">\n",
              "      <th></th>\n",
              "      <th>parameterWaterBodyCategory</th>\n",
              "      <th>observedPropertyDeterminandCode</th>\n",
              "      <th>procedureAnalysedFraction</th>\n",
              "      <th>procedureAnalysedMedia</th>\n",
              "      <th>resultUom</th>\n",
              "      <th>phenomenonTimeReferenceYear</th>\n",
              "      <th>parameterSamplingPeriod</th>\n",
              "      <th>resultMeanValue</th>\n",
              "      <th>waterBodyIdentifier</th>\n",
              "      <th>Country</th>\n",
              "      <th>...</th>\n",
              "      <th>composition_food_organic_waste_percent</th>\n",
              "      <th>composition_glass_percent</th>\n",
              "      <th>composition_metal_percent</th>\n",
              "      <th>composition_other_percent</th>\n",
              "      <th>composition_paper_cardboard_percent</th>\n",
              "      <th>composition_plastic_percent</th>\n",
              "      <th>composition_rubber_leather_percent</th>\n",
              "      <th>composition_wood_percent</th>\n",
              "      <th>composition_yard_garden_green_waste_percent</th>\n",
              "      <th>waste_treatment_recycling_percent</th>\n",
              "    </tr>\n",
              "  </thead>\n",
              "  <tbody>\n",
              "    <tr>\n",
              "      <th>0</th>\n",
              "      <td>RW</td>\n",
              "      <td>CAS_14797-65-0</td>\n",
              "      <td>total</td>\n",
              "      <td>water</td>\n",
              "      <td>mg{NO2}/L</td>\n",
              "      <td>2009</td>\n",
              "      <td>2009-01--2009-12</td>\n",
              "      <td>0.063310</td>\n",
              "      <td>FRDR609</td>\n",
              "      <td>France</td>\n",
              "      <td>...</td>\n",
              "      <td>32.0</td>\n",
              "      <td>10.0</td>\n",
              "      <td>3.0</td>\n",
              "      <td>26.0</td>\n",
              "      <td>20.0</td>\n",
              "      <td>9.0</td>\n",
              "      <td>0.0</td>\n",
              "      <td>0.0</td>\n",
              "      <td>0.0</td>\n",
              "      <td>22.26</td>\n",
              "    </tr>\n",
              "    <tr>\n",
              "      <th>1</th>\n",
              "      <td>RW</td>\n",
              "      <td>CAS_14797-65-0</td>\n",
              "      <td>total</td>\n",
              "      <td>water</td>\n",
              "      <td>mg{NO2}/L</td>\n",
              "      <td>2009</td>\n",
              "      <td>2009-01--2009-12</td>\n",
              "      <td>0.046733</td>\n",
              "      <td>FRFR238</td>\n",
              "      <td>France</td>\n",
              "      <td>...</td>\n",
              "      <td>32.0</td>\n",
              "      <td>10.0</td>\n",
              "      <td>3.0</td>\n",
              "      <td>26.0</td>\n",
              "      <td>20.0</td>\n",
              "      <td>9.0</td>\n",
              "      <td>0.0</td>\n",
              "      <td>0.0</td>\n",
              "      <td>0.0</td>\n",
              "      <td>22.26</td>\n",
              "    </tr>\n",
              "    <tr>\n",
              "      <th>2</th>\n",
              "      <td>RW</td>\n",
              "      <td>EEA_3164-07-6</td>\n",
              "      <td>total</td>\n",
              "      <td>water</td>\n",
              "      <td>{massRatio}</td>\n",
              "      <td>2009</td>\n",
              "      <td>2009-01--2009-12</td>\n",
              "      <td>132.859000</td>\n",
              "      <td>FRFR238</td>\n",
              "      <td>France</td>\n",
              "      <td>...</td>\n",
              "      <td>32.0</td>\n",
              "      <td>10.0</td>\n",
              "      <td>3.0</td>\n",
              "      <td>26.0</td>\n",
              "      <td>20.0</td>\n",
              "      <td>9.0</td>\n",
              "      <td>0.0</td>\n",
              "      <td>0.0</td>\n",
              "      <td>0.0</td>\n",
              "      <td>22.26</td>\n",
              "    </tr>\n",
              "    <tr>\n",
              "      <th>3</th>\n",
              "      <td>RW</td>\n",
              "      <td>CAS_14797-55-8</td>\n",
              "      <td>total</td>\n",
              "      <td>water</td>\n",
              "      <td>mg{NO3}/L</td>\n",
              "      <td>2009</td>\n",
              "      <td>2009-01--2009-12</td>\n",
              "      <td>11.578376</td>\n",
              "      <td>FRFR327C</td>\n",
              "      <td>France</td>\n",
              "      <td>...</td>\n",
              "      <td>32.0</td>\n",
              "      <td>10.0</td>\n",
              "      <td>3.0</td>\n",
              "      <td>26.0</td>\n",
              "      <td>20.0</td>\n",
              "      <td>9.0</td>\n",
              "      <td>0.0</td>\n",
              "      <td>0.0</td>\n",
              "      <td>0.0</td>\n",
              "      <td>22.26</td>\n",
              "    </tr>\n",
              "    <tr>\n",
              "      <th>4</th>\n",
              "      <td>RW</td>\n",
              "      <td>EEA_3151-01-7</td>\n",
              "      <td>total</td>\n",
              "      <td>water</td>\n",
              "      <td>mmol/L</td>\n",
              "      <td>2009</td>\n",
              "      <td>2009-01--2009-12</td>\n",
              "      <td>0.206800</td>\n",
              "      <td>ES014MSPFES-014-NR-038-000-02-02</td>\n",
              "      <td>Spain</td>\n",
              "      <td>...</td>\n",
              "      <td>49.0</td>\n",
              "      <td>8.0</td>\n",
              "      <td>3.0</td>\n",
              "      <td>14.0</td>\n",
              "      <td>15.0</td>\n",
              "      <td>9.0</td>\n",
              "      <td>0.0</td>\n",
              "      <td>2.0</td>\n",
              "      <td>0.0</td>\n",
              "      <td>16.84</td>\n",
              "    </tr>\n",
              "  </tbody>\n",
              "</table>\n",
              "<p>5 rows × 29 columns</p>\n",
              "</div>\n",
              "    <div class=\"colab-df-buttons\">\n",
              "\n",
              "  <div class=\"colab-df-container\">\n",
              "    <button class=\"colab-df-convert\" onclick=\"convertToInteractive('df-41c49829-b003-417e-a6a9-6cf8116e8416')\"\n",
              "            title=\"Convert this dataframe to an interactive table.\"\n",
              "            style=\"display:none;\">\n",
              "\n",
              "  <svg xmlns=\"http://www.w3.org/2000/svg\" height=\"24px\" viewBox=\"0 -960 960 960\">\n",
              "    <path d=\"M120-120v-720h720v720H120Zm60-500h600v-160H180v160Zm220 220h160v-160H400v160Zm0 220h160v-160H400v160ZM180-400h160v-160H180v160Zm440 0h160v-160H620v160ZM180-180h160v-160H180v160Zm440 0h160v-160H620v160Z\"/>\n",
              "  </svg>\n",
              "    </button>\n",
              "\n",
              "  <style>\n",
              "    .colab-df-container {\n",
              "      display:flex;\n",
              "      gap: 12px;\n",
              "    }\n",
              "\n",
              "    .colab-df-convert {\n",
              "      background-color: #E8F0FE;\n",
              "      border: none;\n",
              "      border-radius: 50%;\n",
              "      cursor: pointer;\n",
              "      display: none;\n",
              "      fill: #1967D2;\n",
              "      height: 32px;\n",
              "      padding: 0 0 0 0;\n",
              "      width: 32px;\n",
              "    }\n",
              "\n",
              "    .colab-df-convert:hover {\n",
              "      background-color: #E2EBFA;\n",
              "      box-shadow: 0px 1px 2px rgba(60, 64, 67, 0.3), 0px 1px 3px 1px rgba(60, 64, 67, 0.15);\n",
              "      fill: #174EA6;\n",
              "    }\n",
              "\n",
              "    .colab-df-buttons div {\n",
              "      margin-bottom: 4px;\n",
              "    }\n",
              "\n",
              "    [theme=dark] .colab-df-convert {\n",
              "      background-color: #3B4455;\n",
              "      fill: #D2E3FC;\n",
              "    }\n",
              "\n",
              "    [theme=dark] .colab-df-convert:hover {\n",
              "      background-color: #434B5C;\n",
              "      box-shadow: 0px 1px 3px 1px rgba(0, 0, 0, 0.15);\n",
              "      filter: drop-shadow(0px 1px 2px rgba(0, 0, 0, 0.3));\n",
              "      fill: #FFFFFF;\n",
              "    }\n",
              "  </style>\n",
              "\n",
              "    <script>\n",
              "      const buttonEl =\n",
              "        document.querySelector('#df-41c49829-b003-417e-a6a9-6cf8116e8416 button.colab-df-convert');\n",
              "      buttonEl.style.display =\n",
              "        google.colab.kernel.accessAllowed ? 'block' : 'none';\n",
              "\n",
              "      async function convertToInteractive(key) {\n",
              "        const element = document.querySelector('#df-41c49829-b003-417e-a6a9-6cf8116e8416');\n",
              "        const dataTable =\n",
              "          await google.colab.kernel.invokeFunction('convertToInteractive',\n",
              "                                                    [key], {});\n",
              "        if (!dataTable) return;\n",
              "\n",
              "        const docLinkHtml = 'Like what you see? Visit the ' +\n",
              "          '<a target=\"_blank\" href=https://colab.research.google.com/notebooks/data_table.ipynb>data table notebook</a>'\n",
              "          + ' to learn more about interactive tables.';\n",
              "        element.innerHTML = '';\n",
              "        dataTable['output_type'] = 'display_data';\n",
              "        await google.colab.output.renderOutput(dataTable, element);\n",
              "        const docLink = document.createElement('div');\n",
              "        docLink.innerHTML = docLinkHtml;\n",
              "        element.appendChild(docLink);\n",
              "      }\n",
              "    </script>\n",
              "  </div>\n",
              "\n",
              "\n",
              "<div id=\"df-47004252-cec6-459f-8aa0-a0837869aa03\">\n",
              "  <button class=\"colab-df-quickchart\" onclick=\"quickchart('df-47004252-cec6-459f-8aa0-a0837869aa03')\"\n",
              "            title=\"Suggest charts\"\n",
              "            style=\"display:none;\">\n",
              "\n",
              "<svg xmlns=\"http://www.w3.org/2000/svg\" height=\"24px\"viewBox=\"0 0 24 24\"\n",
              "     width=\"24px\">\n",
              "    <g>\n",
              "        <path d=\"M19 3H5c-1.1 0-2 .9-2 2v14c0 1.1.9 2 2 2h14c1.1 0 2-.9 2-2V5c0-1.1-.9-2-2-2zM9 17H7v-7h2v7zm4 0h-2V7h2v10zm4 0h-2v-4h2v4z\"/>\n",
              "    </g>\n",
              "</svg>\n",
              "  </button>\n",
              "\n",
              "<style>\n",
              "  .colab-df-quickchart {\n",
              "      --bg-color: #E8F0FE;\n",
              "      --fill-color: #1967D2;\n",
              "      --hover-bg-color: #E2EBFA;\n",
              "      --hover-fill-color: #174EA6;\n",
              "      --disabled-fill-color: #AAA;\n",
              "      --disabled-bg-color: #DDD;\n",
              "  }\n",
              "\n",
              "  [theme=dark] .colab-df-quickchart {\n",
              "      --bg-color: #3B4455;\n",
              "      --fill-color: #D2E3FC;\n",
              "      --hover-bg-color: #434B5C;\n",
              "      --hover-fill-color: #FFFFFF;\n",
              "      --disabled-bg-color: #3B4455;\n",
              "      --disabled-fill-color: #666;\n",
              "  }\n",
              "\n",
              "  .colab-df-quickchart {\n",
              "    background-color: var(--bg-color);\n",
              "    border: none;\n",
              "    border-radius: 50%;\n",
              "    cursor: pointer;\n",
              "    display: none;\n",
              "    fill: var(--fill-color);\n",
              "    height: 32px;\n",
              "    padding: 0;\n",
              "    width: 32px;\n",
              "  }\n",
              "\n",
              "  .colab-df-quickchart:hover {\n",
              "    background-color: var(--hover-bg-color);\n",
              "    box-shadow: 0 1px 2px rgba(60, 64, 67, 0.3), 0 1px 3px 1px rgba(60, 64, 67, 0.15);\n",
              "    fill: var(--button-hover-fill-color);\n",
              "  }\n",
              "\n",
              "  .colab-df-quickchart-complete:disabled,\n",
              "  .colab-df-quickchart-complete:disabled:hover {\n",
              "    background-color: var(--disabled-bg-color);\n",
              "    fill: var(--disabled-fill-color);\n",
              "    box-shadow: none;\n",
              "  }\n",
              "\n",
              "  .colab-df-spinner {\n",
              "    border: 2px solid var(--fill-color);\n",
              "    border-color: transparent;\n",
              "    border-bottom-color: var(--fill-color);\n",
              "    animation:\n",
              "      spin 1s steps(1) infinite;\n",
              "  }\n",
              "\n",
              "  @keyframes spin {\n",
              "    0% {\n",
              "      border-color: transparent;\n",
              "      border-bottom-color: var(--fill-color);\n",
              "      border-left-color: var(--fill-color);\n",
              "    }\n",
              "    20% {\n",
              "      border-color: transparent;\n",
              "      border-left-color: var(--fill-color);\n",
              "      border-top-color: var(--fill-color);\n",
              "    }\n",
              "    30% {\n",
              "      border-color: transparent;\n",
              "      border-left-color: var(--fill-color);\n",
              "      border-top-color: var(--fill-color);\n",
              "      border-right-color: var(--fill-color);\n",
              "    }\n",
              "    40% {\n",
              "      border-color: transparent;\n",
              "      border-right-color: var(--fill-color);\n",
              "      border-top-color: var(--fill-color);\n",
              "    }\n",
              "    60% {\n",
              "      border-color: transparent;\n",
              "      border-right-color: var(--fill-color);\n",
              "    }\n",
              "    80% {\n",
              "      border-color: transparent;\n",
              "      border-right-color: var(--fill-color);\n",
              "      border-bottom-color: var(--fill-color);\n",
              "    }\n",
              "    90% {\n",
              "      border-color: transparent;\n",
              "      border-bottom-color: var(--fill-color);\n",
              "    }\n",
              "  }\n",
              "</style>\n",
              "\n",
              "  <script>\n",
              "    async function quickchart(key) {\n",
              "      const quickchartButtonEl =\n",
              "        document.querySelector('#' + key + ' button');\n",
              "      quickchartButtonEl.disabled = true;  // To prevent multiple clicks.\n",
              "      quickchartButtonEl.classList.add('colab-df-spinner');\n",
              "      try {\n",
              "        const charts = await google.colab.kernel.invokeFunction(\n",
              "            'suggestCharts', [key], {});\n",
              "      } catch (error) {\n",
              "        console.error('Error during call to suggestCharts:', error);\n",
              "      }\n",
              "      quickchartButtonEl.classList.remove('colab-df-spinner');\n",
              "      quickchartButtonEl.classList.add('colab-df-quickchart-complete');\n",
              "    }\n",
              "    (() => {\n",
              "      let quickchartButtonEl =\n",
              "        document.querySelector('#df-47004252-cec6-459f-8aa0-a0837869aa03 button');\n",
              "      quickchartButtonEl.style.display =\n",
              "        google.colab.kernel.accessAllowed ? 'block' : 'none';\n",
              "    })();\n",
              "  </script>\n",
              "</div>\n",
              "\n",
              "    </div>\n",
              "  </div>\n"
            ],
            "application/vnd.google.colaboratory.intrinsic+json": {
              "type": "dataframe",
              "variable_name": "data"
            }
          },
          "metadata": {},
          "execution_count": 4
        }
      ],
      "source": [
        "data.head()"
      ]
    },
    {
      "cell_type": "code",
      "execution_count": null,
      "metadata": {
        "colab": {
          "base_uri": "https://localhost:8080/",
          "height": 993
        },
        "id": "hH6gva5eoDAn",
        "outputId": "9685f69d-36b2-403d-e234-4a571f90bc38"
      },
      "outputs": [
        {
          "output_type": "execute_result",
          "data": {
            "text/plain": [
              "parameterWaterBodyCategory                       0\n",
              "observedPropertyDeterminandCode                  0\n",
              "procedureAnalysedFraction                        0\n",
              "procedureAnalysedMedia                           0\n",
              "resultUom                                        0\n",
              "phenomenonTimeReferenceYear                      0\n",
              "parameterSamplingPeriod                          0\n",
              "resultMeanValue                                  0\n",
              "waterBodyIdentifier                              0\n",
              "Country                                        104\n",
              "PopulationDensity                              107\n",
              "TerraMarineProtected_2016_2018                 107\n",
              "TouristMean_1990_2020                          107\n",
              "VenueCount                                       0\n",
              "netMigration_2011_2018                         107\n",
              "droughts_floods_temperature                    107\n",
              "literacyRate_2010_2018                         107\n",
              "combustibleRenewables_2009_2014                107\n",
              "gdp                                            107\n",
              "composition_food_organic_waste_percent         107\n",
              "composition_glass_percent                      107\n",
              "composition_metal_percent                      107\n",
              "composition_other_percent                      107\n",
              "composition_paper_cardboard_percent            107\n",
              "composition_plastic_percent                    107\n",
              "composition_rubber_leather_percent             107\n",
              "composition_wood_percent                       107\n",
              "composition_yard_garden_green_waste_percent    107\n",
              "waste_treatment_recycling_percent              107\n",
              "dtype: int64"
            ],
            "text/html": [
              "<div>\n",
              "<style scoped>\n",
              "    .dataframe tbody tr th:only-of-type {\n",
              "        vertical-align: middle;\n",
              "    }\n",
              "\n",
              "    .dataframe tbody tr th {\n",
              "        vertical-align: top;\n",
              "    }\n",
              "\n",
              "    .dataframe thead th {\n",
              "        text-align: right;\n",
              "    }\n",
              "</style>\n",
              "<table border=\"1\" class=\"dataframe\">\n",
              "  <thead>\n",
              "    <tr style=\"text-align: right;\">\n",
              "      <th></th>\n",
              "      <th>0</th>\n",
              "    </tr>\n",
              "  </thead>\n",
              "  <tbody>\n",
              "    <tr>\n",
              "      <th>parameterWaterBodyCategory</th>\n",
              "      <td>0</td>\n",
              "    </tr>\n",
              "    <tr>\n",
              "      <th>observedPropertyDeterminandCode</th>\n",
              "      <td>0</td>\n",
              "    </tr>\n",
              "    <tr>\n",
              "      <th>procedureAnalysedFraction</th>\n",
              "      <td>0</td>\n",
              "    </tr>\n",
              "    <tr>\n",
              "      <th>procedureAnalysedMedia</th>\n",
              "      <td>0</td>\n",
              "    </tr>\n",
              "    <tr>\n",
              "      <th>resultUom</th>\n",
              "      <td>0</td>\n",
              "    </tr>\n",
              "    <tr>\n",
              "      <th>phenomenonTimeReferenceYear</th>\n",
              "      <td>0</td>\n",
              "    </tr>\n",
              "    <tr>\n",
              "      <th>parameterSamplingPeriod</th>\n",
              "      <td>0</td>\n",
              "    </tr>\n",
              "    <tr>\n",
              "      <th>resultMeanValue</th>\n",
              "      <td>0</td>\n",
              "    </tr>\n",
              "    <tr>\n",
              "      <th>waterBodyIdentifier</th>\n",
              "      <td>0</td>\n",
              "    </tr>\n",
              "    <tr>\n",
              "      <th>Country</th>\n",
              "      <td>104</td>\n",
              "    </tr>\n",
              "    <tr>\n",
              "      <th>PopulationDensity</th>\n",
              "      <td>107</td>\n",
              "    </tr>\n",
              "    <tr>\n",
              "      <th>TerraMarineProtected_2016_2018</th>\n",
              "      <td>107</td>\n",
              "    </tr>\n",
              "    <tr>\n",
              "      <th>TouristMean_1990_2020</th>\n",
              "      <td>107</td>\n",
              "    </tr>\n",
              "    <tr>\n",
              "      <th>VenueCount</th>\n",
              "      <td>0</td>\n",
              "    </tr>\n",
              "    <tr>\n",
              "      <th>netMigration_2011_2018</th>\n",
              "      <td>107</td>\n",
              "    </tr>\n",
              "    <tr>\n",
              "      <th>droughts_floods_temperature</th>\n",
              "      <td>107</td>\n",
              "    </tr>\n",
              "    <tr>\n",
              "      <th>literacyRate_2010_2018</th>\n",
              "      <td>107</td>\n",
              "    </tr>\n",
              "    <tr>\n",
              "      <th>combustibleRenewables_2009_2014</th>\n",
              "      <td>107</td>\n",
              "    </tr>\n",
              "    <tr>\n",
              "      <th>gdp</th>\n",
              "      <td>107</td>\n",
              "    </tr>\n",
              "    <tr>\n",
              "      <th>composition_food_organic_waste_percent</th>\n",
              "      <td>107</td>\n",
              "    </tr>\n",
              "    <tr>\n",
              "      <th>composition_glass_percent</th>\n",
              "      <td>107</td>\n",
              "    </tr>\n",
              "    <tr>\n",
              "      <th>composition_metal_percent</th>\n",
              "      <td>107</td>\n",
              "    </tr>\n",
              "    <tr>\n",
              "      <th>composition_other_percent</th>\n",
              "      <td>107</td>\n",
              "    </tr>\n",
              "    <tr>\n",
              "      <th>composition_paper_cardboard_percent</th>\n",
              "      <td>107</td>\n",
              "    </tr>\n",
              "    <tr>\n",
              "      <th>composition_plastic_percent</th>\n",
              "      <td>107</td>\n",
              "    </tr>\n",
              "    <tr>\n",
              "      <th>composition_rubber_leather_percent</th>\n",
              "      <td>107</td>\n",
              "    </tr>\n",
              "    <tr>\n",
              "      <th>composition_wood_percent</th>\n",
              "      <td>107</td>\n",
              "    </tr>\n",
              "    <tr>\n",
              "      <th>composition_yard_garden_green_waste_percent</th>\n",
              "      <td>107</td>\n",
              "    </tr>\n",
              "    <tr>\n",
              "      <th>waste_treatment_recycling_percent</th>\n",
              "      <td>107</td>\n",
              "    </tr>\n",
              "  </tbody>\n",
              "</table>\n",
              "</div><br><label><b>dtype:</b> int64</label>"
            ]
          },
          "metadata": {},
          "execution_count": 5
        }
      ],
      "source": [
        "data.isna().sum()"
      ]
    },
    {
      "cell_type": "code",
      "execution_count": null,
      "metadata": {
        "id": "oTUIgYxUoHp4"
      },
      "outputs": [],
      "source": [
        "data.dropna(axis=0,inplace=True)"
      ]
    },
    {
      "cell_type": "code",
      "execution_count": null,
      "metadata": {
        "id": "_dY-aDU0oQdL"
      },
      "outputs": [],
      "source": [
        "columns = (\"parameterWaterBodyCategory\",\"observedPropertyDeterminandCode\",\"procedureAnalysedFraction\",\"procedureAnalysedMedia\",\"resultUom\",\"parameterSamplingPeriod\",\"waterBodyIdentifier\",\"Country\")\n",
        "for i in columns:\n",
        "  le = LabelEncoder()\n",
        "  data[i] = le.fit_transform(data[i])"
      ]
    },
    {
      "cell_type": "code",
      "execution_count": null,
      "metadata": {
        "id": "gTiI4IxLoZCD"
      },
      "outputs": [],
      "source": [
        "model = KNeighborsClassifier()\n",
        "x = data.drop([\"resultMeanValue\"],axis = 1)\n",
        "y = data[\"resultMeanValue\"].values"
      ]
    },
    {
      "cell_type": "code",
      "execution_count": null,
      "metadata": {
        "colab": {
          "base_uri": "https://localhost:8080/",
          "height": 447
        },
        "id": "YcceOUSvofhS",
        "outputId": "3e5f495d-611c-4d39-b79e-469cf4f7944a"
      },
      "outputs": [
        {
          "output_type": "execute_result",
          "data": {
            "text/plain": [
              "<Axes: >"
            ]
          },
          "metadata": {},
          "execution_count": 9
        },
        {
          "output_type": "display_data",
          "data": {
            "text/plain": [
              "<Figure size 640x480 with 1 Axes>"
            ],
            "image/png": "[encoded data removed]"
          },
          "metadata": {}
        }
      ],
      "source": [
        "data[\"resultMeanValue\"].plot()"
      ]
    },
    {
      "cell_type": "code",
      "execution_count": null,
      "metadata": {
        "id": "858WoLGNojUK"
      },
      "outputs": [],
      "source": [
        "x_train, x_test, y_train, y_test = train_test_split(x,y,test_size = 0.3, random_state = 42)"
      ]
    },
    {
      "cell_type": "code",
      "execution_count": null,
      "metadata": {
        "id": "6QXdIdXho4SE"
      },
      "outputs": [],
      "source": [
        "def makeClass(y):\n",
        "  y = [\"Dirty\" if x > 500 else \"Clean\" for x in y]\n",
        "  return y"
      ]
    },
    {
      "cell_type": "code",
      "execution_count": null,
      "metadata": {
        "id": "x516mbj0o7SA"
      },
      "outputs": [],
      "source": [
        "y_train, y_test = makeClass(y_train),makeClass(y_test)\n"
      ]
    },
    {
      "cell_type": "code",
      "execution_count": null,
      "metadata": {
        "id": "7eek46Ipo8Vv"
      },
      "outputs": [],
      "source": [
        "scaler = MinMaxScaler()\n",
        "x_train = scaler.fit_transform(x_train)\n",
        "x_test = scaler.fit_transform(x_test)\n",
        "y_train = scaler.fit_transform(x_train)\n",
        "y_test = scaler.fit_transform(x_test)"
      ]
    },
    {
      "cell_type": "code",
      "execution_count": null,
      "metadata": {
        "id": "fiNYDhWbpLJ7"
      },
      "outputs": [],
      "source": [
        "def fitData(x,y,model,columns):\n",
        "  a = x[columns]\n",
        "  x_train,x_test,y_train,y_test = train_test_split(a,y,test_size = 0.3,random_state=42)\n",
        "  y_train, y_test = makeClass(y_train),makeClass(y_test)\n",
        "  scaler = MinMaxScaler()\n",
        "  x_train = scaler.fit_transform(x_train)\n",
        "  x_test = scaler.fit_transform(x_test)\n",
        "  model.fit(x_train,y_train)\n",
        "  return model.score(x_test,y_test)"
      ]
    },
    {
      "cell_type": "code",
      "source": [
        "usedCols = list()\n",
        "scores = list()\n",
        "for col in x.columns:\n",
        "  usedCols.append(col)\n",
        "  score = fitData(x,y,model,usedCols)\n",
        "  scores.append(score)\n",
        "  print(f\"Accuracy with {col} Feature: {score}\")\n",
        "  print(\"-\"*65)"
      ],
      "metadata": {
        "colab": {
          "base_uri": "https://localhost:8080/"
        },
        "id": "SGgnDW6p52Rf",
        "outputId": "8963367c-be57-4ddd-b912-a2eb4bd7c860"
      },
      "execution_count": null,
      "outputs": [
        {
          "output_type": "stream",
          "name": "stdout",
          "text": [
            "Accuracy with parameterWaterBodyCategory Feature: 0.9867627345844504\n",
            "-----------------------------------------------------------------\n",
            "Accuracy with observedPropertyDeterminandCode Feature: 0.9740281501340483\n",
            "-----------------------------------------------------------------\n",
            "Accuracy with procedureAnalysedFraction Feature: 0.9874329758713136\n",
            "-----------------------------------------------------------------\n",
            "Accuracy with procedureAnalysedMedia Feature: 0.9874329758713136\n",
            "-----------------------------------------------------------------\n",
            "Accuracy with resultUom Feature: 0.9874329758713136\n",
            "-----------------------------------------------------------------\n",
            "Accuracy with phenomenonTimeReferenceYear Feature: 0.9870978552278821\n",
            "-----------------------------------------------------------------\n",
            "Accuracy with parameterSamplingPeriod Feature: 0.9874329758713136\n",
            "-----------------------------------------------------------------\n",
            "Accuracy with waterBodyIdentifier Feature: 0.9865951742627346\n",
            "-----------------------------------------------------------------\n",
            "Accuracy with Country Feature: 0.9872654155495979\n",
            "-----------------------------------------------------------------\n",
            "Accuracy with PopulationDensity Feature: 0.988103217158177\n",
            "-----------------------------------------------------------------\n",
            "Accuracy with TerraMarineProtected_2016_2018 Feature: 0.988103217158177\n",
            "-----------------------------------------------------------------\n",
            "Accuracy with TouristMean_1990_2020 Feature: 0.988103217158177\n",
            "-----------------------------------------------------------------\n",
            "Accuracy with VenueCount Feature: 0.9877680965147453\n",
            "-----------------------------------------------------------------\n",
            "Accuracy with netMigration_2011_2018 Feature: 0.9877680965147453\n",
            "-----------------------------------------------------------------\n",
            "Accuracy with droughts_floods_temperature Feature: 0.9877680965147453\n",
            "-----------------------------------------------------------------\n",
            "Accuracy with literacyRate_2010_2018 Feature: 0.9877680965147453\n",
            "-----------------------------------------------------------------\n",
            "Accuracy with combustibleRenewables_2009_2014 Feature: 0.9877680965147453\n",
            "-----------------------------------------------------------------\n",
            "Accuracy with gdp Feature: 0.9877680965147453\n",
            "-----------------------------------------------------------------\n",
            "Accuracy with composition_food_organic_waste_percent Feature: 0.9877680965147453\n",
            "-----------------------------------------------------------------\n",
            "Accuracy with composition_glass_percent Feature: 0.9877680965147453\n",
            "-----------------------------------------------------------------\n",
            "Accuracy with composition_metal_percent Feature: 0.9877680965147453\n",
            "-----------------------------------------------------------------\n",
            "Accuracy with composition_other_percent Feature: 0.9877680965147453\n",
            "-----------------------------------------------------------------\n",
            "Accuracy with composition_paper_cardboard_percent Feature: 0.9877680965147453\n",
            "-----------------------------------------------------------------\n",
            "Accuracy with composition_plastic_percent Feature: 0.9877680965147453\n",
            "-----------------------------------------------------------------\n",
            "Accuracy with composition_rubber_leather_percent Feature: 0.9877680965147453\n",
            "-----------------------------------------------------------------\n",
            "Accuracy with composition_wood_percent Feature: 0.9877680965147453\n",
            "-----------------------------------------------------------------\n",
            "Accuracy with composition_yard_garden_green_waste_percent Feature: 0.9877680965147453\n",
            "-----------------------------------------------------------------\n",
            "Accuracy with waste_treatment_recycling_percent Feature: 0.9877680965147453\n",
            "-----------------------------------------------------------------\n"
          ]
        }
      ]
    },
    {
      "cell_type": "code",
      "source": [
        "regressor = xg.XGBRegressor()\\\n",
        "            .fit(x_train,y_train)"
      ],
      "metadata": {
        "id": "_BTHQqDh6kah"
      },
      "execution_count": null,
      "outputs": []
    },
    {
      "cell_type": "code",
      "source": [
        "preds = regressor.predict(x_test)"
      ],
      "metadata": {
        "id": "G8C8etE96ots"
      },
      "execution_count": null,
      "outputs": []
    },
    {
      "cell_type": "code",
      "source": [
        "preds"
      ],
      "metadata": {
        "colab": {
          "base_uri": "https://localhost:8080/"
        },
        "id": "eIB17t0U6rJ2",
        "outputId": "fbe32161-e280-4302-973d-e48241ca02f1"
      },
      "execution_count": null,
      "outputs": [
        {
          "output_type": "execute_result",
          "data": {
            "text/plain": [
              "array([[9.9999851e-01, 9.3371207e-01, 9.9999923e-01, ..., 5.3822705e-06,\n",
              "        4.7955341e-06, 4.5676669e-01],\n",
              "       [9.9999851e-01, 9.2268145e-01, 9.9999923e-01, ..., 5.3822705e-06,\n",
              "        5.0327837e-01, 6.7154270e-01],\n",
              "       [4.8523303e-05, 8.0949807e-01, 9.9999923e-01, ..., 1.1621024e-01,\n",
              "        4.7955341e-06, 3.4163260e-01],\n",
              "       ...,\n",
              "       [9.9999851e-01, 8.6188263e-01, 9.9999923e-01, ..., 5.3822705e-06,\n",
              "        4.7955341e-06, 4.5676669e-01],\n",
              "       [9.9999851e-01, 9.0599549e-01, 9.9999923e-01, ..., 5.3822705e-06,\n",
              "        4.7955341e-06, 9.9995947e-01],\n",
              "       [9.9999851e-01, 9.0599549e-01, 9.9999923e-01, ..., 4.4159371e-01,\n",
              "        8.8630609e-02, 5.6277186e-01]], dtype=float32)"
            ]
          },
          "metadata": {},
          "execution_count": 18
        }
      ]
    },
    {
      "cell_type": "code",
      "source": [
        "mse = MSE(y_test,preds)\n",
        "r2Score = r2_score(y_test,preds)\n"
      ],
      "metadata": {
        "id": "OYbBMja36wKy"
      },
      "execution_count": null,
      "outputs": []
    },
    {
      "cell_type": "code",
      "source": [
        "print(\"Metrics for XGBoost Regressor\")\n",
        "print(f\"MSE: {mse}\\nRMSE: {mse ** (1/2)}\\nR^2 Score: {r2Score}\")"
      ],
      "metadata": {
        "id": "KOk3dVy26y5C",
        "outputId": "4290c713-b0af-4716-9cc6-a970cf64e833",
        "colab": {
          "base_uri": "https://localhost:8080/"
        }
      },
      "execution_count": null,
      "outputs": [
        {
          "output_type": "stream",
          "name": "stdout",
          "text": [
            "Metrics for XGBoost Regressor\n",
            "MSE: 4.0221005550228205e-05\n",
            "RMSE: 0.006342003275797656\n",
            "R^2 Score: 0.9954628127662196\n"
          ]
        }
      ]
    },
    {
      "cell_type": "code",
      "source": [
        "# prompt: import r2\n",
        "\n",
        "from sklearn.metrics import r2_score\n",
        "\n",
        "# Assuming 'y_test' and 'preds' are already defined from the previous code\n",
        "r2 = r2_score(y_test, preds)\n",
        "print(f\"R^2 score: {r2}\")"
      ],
      "metadata": {
        "colab": {
          "base_uri": "https://localhost:8080/"
        },
        "id": "yUbtP61d8Pwr",
        "outputId": "595a5c72-f7d8-4218-d144-7d94d1cdf213"
      },
      "execution_count": 21,
      "outputs": [
        {
          "output_type": "stream",
          "name": "stdout",
          "text": [
            "R^2 score: 0.9954628127662196\n"
          ]
        }
      ]
    },
    {
      "cell_type": "code",
      "source": [
        "import pickle"
      ],
      "metadata": {
        "id": "HLmPNNTU8ykE"
      },
      "execution_count": 22,
      "outputs": []
    },
    {
      "cell_type": "code",
      "source": [
        "pickle.dump(regressor,open('model.pkl','wb'))"
      ],
      "metadata": {
        "id": "gudKmAcJ8-iZ"
      },
      "execution_count": 25,
      "outputs": []
    }
  ],
  "metadata": {
    "colab": {
      "provenance": []
    },
    "kernelspec": {
      "display_name": "Python 3",
      "name": "python3"
    },
    "language_info": {
      "name": "python"
    }
  },
  "nbformat": 4,
  "nbformat_minor": 0
}